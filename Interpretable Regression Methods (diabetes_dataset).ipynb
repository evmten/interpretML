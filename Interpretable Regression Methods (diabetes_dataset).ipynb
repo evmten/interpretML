{
 "cells": [
  {
   "cell_type": "markdown",
   "id": "46915e0b",
   "metadata": {},
   "source": [
    "# Setup a regression experiment"
   ]
  },
  {
   "cell_type": "code",
   "execution_count": 1,
   "id": "52b14301",
   "metadata": {},
   "outputs": [],
   "source": [
    "import pandas as pd\n",
    "from sklearn.datasets import load_diabetes\n",
    "from sklearn.model_selection import train_test_split\n",
    "\n",
    "diabetes = load_diabetes()"
   ]
  },
  {
   "cell_type": "raw",
   "id": "b5587745",
   "metadata": {},
   "source": [
    "age = age in years\n",
    "sex\n",
    "bmi = body mass index\n",
    "bp = average blood pressure\n",
    "tc = total serum cholesterol\n",
    "ldl = low-density lipoproteins\n",
    "hdl = high-density lipoproteins\n",
    "tch = total cholesterol / HDL\n",
    "ltg = possibly log of serum triglycerides level\n",
    "glu = blood sugar level"
   ]
  },
  {
   "cell_type": "code",
   "execution_count": 2,
   "id": "fd40c1de",
   "metadata": {},
   "outputs": [],
   "source": [
    "#print(diabetes.DESCR)"
   ]
  },
  {
   "cell_type": "code",
   "execution_count": 3,
   "id": "2abed0ba",
   "metadata": {},
   "outputs": [],
   "source": [
    "diabetes.feature_names = ['age', 'sex', 'bmi', 'bp', 'tc', 'ldl', 'hdl', 'tch', 'ltg', 'glu']"
   ]
  },
  {
   "cell_type": "code",
   "execution_count": 4,
   "id": "257e5cca",
   "metadata": {},
   "outputs": [],
   "source": [
    "feature_names = list(diabetes.feature_names)\n",
    "df = pd.DataFrame(diabetes.data, columns=feature_names)\n",
    "df[\"target\"] = diabetes.target\n",
    "\n",
    "train_cols = df.columns[0:-1]\n",
    "label = df.columns[-1]\n",
    "X = df[train_cols]\n",
    "y = df[label]\n",
    "\n",
    "seed = 1\n",
    "X_train, X_test, y_train, y_test = train_test_split(X, y, test_size=0.20, random_state=seed)"
   ]
  },
  {
   "cell_type": "markdown",
   "id": "a55225b6",
   "metadata": {},
   "source": [
    "## Explore the dataset"
   ]
  },
  {
   "cell_type": "code",
   "execution_count": 5,
   "id": "c11fa646",
   "metadata": {
    "scrolled": true
   },
   "outputs": [],
   "source": [
    "from interpret import show\n",
    "from interpret.data import Marginal\n",
    "\n",
    "marginal = Marginal().explain_data(X_train, y_train, name = 'Train Data')\n",
    "show(marginal)"
   ]
  },
  {
   "cell_type": "markdown",
   "id": "bde530bf",
   "metadata": {},
   "source": [
    "## Train the Explainable Boosting Machine (EBM)"
   ]
  },
  {
   "cell_type": "code",
   "execution_count": 6,
   "id": "7bd30299",
   "metadata": {},
   "outputs": [
    {
     "data": {
      "text/plain": [
       "ExplainableBoostingRegressor(feature_names=['age', 'sex', 'bmi', 'bp', 'tc',\n",
       "                                            'ldl', 'hdl', 'tch', 'ltg', 'glu',\n",
       "                                            'bmi x bp', 'bmi x tch',\n",
       "                                            'sex x bmi', 'bp x tc', 'tc x ltg',\n",
       "                                            'age x bmi', 'age x bp',\n",
       "                                            'bmi x ldl', 'tc x ldl',\n",
       "                                            'ldl x hdl'],\n",
       "                             feature_types=['continuous', 'continuous',\n",
       "                                            'continuous', 'continuous',\n",
       "                                            'continuous', 'continuous',\n",
       "                                            'continuous', 'continuous',\n",
       "                                            'continuous', 'continuous',\n",
       "                                            'interaction', 'interaction',\n",
       "                                            'interaction', 'interaction',\n",
       "                                            'interaction', 'interaction',\n",
       "                                            'interaction', 'interaction',\n",
       "                                            'interaction', 'interaction'],\n",
       "                             n_jobs=-1, random_state=1)"
      ]
     },
     "execution_count": 6,
     "metadata": {},
     "output_type": "execute_result"
    }
   ],
   "source": [
    "from interpret.glassbox import ExplainableBoostingRegressor, LinearRegression, RegressionTree\n",
    "\n",
    "ebm = ExplainableBoostingRegressor(random_state=seed, n_jobs=-1)\n",
    "ebm.fit(X_train, y_train)   #Works on dataframes and numpy arrays"
   ]
  },
  {
   "cell_type": "markdown",
   "id": "aff8c7ce",
   "metadata": {},
   "source": [
    "## Global Explanations: What the model learned overall"
   ]
  },
  {
   "cell_type": "code",
   "execution_count": 7,
   "id": "5146157a",
   "metadata": {},
   "outputs": [],
   "source": [
    "ebm_global = ebm.explain_global(name='EBM')\n",
    "show(ebm_global)"
   ]
  },
  {
   "cell_type": "markdown",
   "id": "ed31c0fa",
   "metadata": {},
   "source": [
    "## Local Explanations: How an individual prediction was made"
   ]
  },
  {
   "cell_type": "code",
   "execution_count": 8,
   "id": "5ee3917b",
   "metadata": {},
   "outputs": [],
   "source": [
    "ebm_local = ebm.explain_local(X_test[:5], y_test[:5], name='EBM')\n",
    "show(ebm_local)"
   ]
  },
  {
   "cell_type": "markdown",
   "id": "b66feb19",
   "metadata": {},
   "source": [
    "## Evaluate EBM performance"
   ]
  },
  {
   "cell_type": "code",
   "execution_count": 9,
   "id": "3778105f",
   "metadata": {},
   "outputs": [],
   "source": [
    "from interpret import show\n",
    "from interpret.perf import RegressionPerf\n",
    "\n",
    "ebm_perf = RegressionPerf(ebm.predict).explain_perf(X_test, y_test, name='EBM')\n",
    "show(ebm_perf)"
   ]
  },
  {
   "cell_type": "markdown",
   "id": "a9f18c9d",
   "metadata": {},
   "source": [
    "## Let's test out a few other Explainable Models"
   ]
  },
  {
   "cell_type": "code",
   "execution_count": 10,
   "id": "908f6fdf",
   "metadata": {},
   "outputs": [
    {
     "data": {
      "text/plain": [
       "<interpret.glassbox.decisiontree.RegressionTree at 0x1e89b3871f0>"
      ]
     },
     "execution_count": 10,
     "metadata": {},
     "output_type": "execute_result"
    }
   ],
   "source": [
    "from interpret.glassbox import LinearRegression, RegressionTree\n",
    "\n",
    "lr = LinearRegression(random_state=seed)\n",
    "lr.fit(X_train, y_train)\n",
    "\n",
    "rt = RegressionTree(random_state=seed)\n",
    "rt.fit(X_train, y_train)"
   ]
  },
  {
   "cell_type": "markdown",
   "id": "52162289",
   "metadata": {},
   "source": [
    "## Compare performance using the Dashboard"
   ]
  },
  {
   "cell_type": "code",
   "execution_count": 11,
   "id": "72551c90",
   "metadata": {},
   "outputs": [],
   "source": [
    "lr_perf = RegressionPerf(lr.predict).explain_perf(X_test, y_test, name='Linear Regression')\n",
    "rt_perf = RegressionPerf(rt.predict).explain_perf(X_test, y_test, name='Regression Tree')\n",
    "\n",
    "show(lr_perf)\n",
    "show(rt_perf)\n",
    "show(ebm_perf)"
   ]
  },
  {
   "cell_type": "markdown",
   "id": "144c1c56",
   "metadata": {},
   "source": [
    "## Glassbox: All of our models have global and local explanations"
   ]
  },
  {
   "cell_type": "code",
   "execution_count": 12,
   "id": "9ade852a",
   "metadata": {},
   "outputs": [],
   "source": [
    "lr_global = lr.explain_global(name='Linear Regression')\n",
    "rt_global = rt.explain_global(name='Regression Tree')\n",
    "\n",
    "show(lr_global)\n",
    "show(rt_global)\n",
    "show(ebm_global)"
   ]
  },
  {
   "cell_type": "markdown",
   "id": "2977bdaf",
   "metadata": {},
   "source": [
    "## Dashboard: look at everything at once"
   ]
  },
  {
   "cell_type": "code",
   "execution_count": 13,
   "id": "e1f0b17b",
   "metadata": {},
   "outputs": [
    {
     "data": {
      "text/html": [
       "<!-- http://127.0.0.1:7412/2098552158400/ -->\n",
       "<a href=\"http://127.0.0.1:7412/2098552158400/\" target=\"_new\">Open in new window</a><iframe src=\"http://127.0.0.1:7412/2098552158400/\" width=100% height=800 frameBorder=\"0\"></iframe>"
      ]
     },
     "metadata": {},
     "output_type": "display_data"
    }
   ],
   "source": [
    "# Do everything in one shot with the InterpretML Dashboard by passing a list into show\n",
    "\n",
    "show([marginal, lr_global, lr_perf, rt_global, rt_perf, ebm_global, ebm_perf])"
   ]
  }
 ],
 "metadata": {
  "kernelspec": {
   "display_name": "Python 3",
   "language": "python",
   "name": "python3"
  },
  "language_info": {
   "codemirror_mode": {
    "name": "ipython",
    "version": 3
   },
   "file_extension": ".py",
   "mimetype": "text/x-python",
   "name": "python",
   "nbconvert_exporter": "python",
   "pygments_lexer": "ipython3",
   "version": "3.8.8"
  }
 },
 "nbformat": 4,
 "nbformat_minor": 5
}
